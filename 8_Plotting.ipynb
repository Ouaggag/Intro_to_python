{
 "cells": [
  {
   "cell_type": "raw",
   "metadata": {},
   "source": [
    "from IPython.core.display import HTML\n",
    "def css_styling():\n",
    "    styles = open(\"./styles/custom.css\", \"r\").read()\n",
    "    return HTML(styles)\n",
    "css_styling()"
   ]
  },
  {
   "cell_type": "markdown",
   "metadata": {
    "slideshow": {
     "slide_type": "slide"
    }
   },
   "source": [
    "### BEFORE YOU DO ANYTHING...\n",
    "In the terminal:\n",
    "1. Navigate to __inside__ your ILAS_Python repository.\n",
    "2. __COMMIT__ any un-commited work on your personal computer.\n",
    "3. __PULL__ any changes *you* have made using another computer.\n",
    "4. __PULL__ textbook updates (including homework answers)."
   ]
  },
  {
   "cell_type": "markdown",
   "metadata": {
    "slideshow": {
     "slide_type": "slide"
    }
   },
   "source": [
    "1. __Open Jupyter notebook:__   Start >> Programs (すべてのプログラム) >> Programming >> Anaconda3 >> JupyterNotebook\n",
    "1. __Navigate to the ILAS_Python folder__. \n",
    "1. __Open today's seminar__  by clicking on 8_Plotting."
   ]
  },
  {
   "cell_type": "markdown",
   "metadata": {
    "slideshow": {
     "slide_type": "slide"
    }
   },
   "source": [
    "# Plotting\n",
    "\n",
    "# Lesson Goal\n",
    "\n",
    "To use the Matplotlib Python package to visualise results. "
   ]
  },
  {
   "cell_type": "markdown",
   "metadata": {
    "slideshow": {
     "slide_type": "slide"
    }
   },
   "source": [
    "# Objectives\n",
    "\n",
    "Matplotlib is the most widel used Python module for plotting.\n",
    "\n",
    "It's functionality is huge.\n",
    "\n",
    "Today's objective is to:\n",
    "- introduce the core functionality of Matplotlib as a basis that you can build on. \n",
    "- focus on tasks where plotting *programmatically* can be advantageous over other *computational* plotting methods. \n",
    "\n",
    "Use online resources including the Matplotlib Gallery (http://matplotlib.org/gallery.html), or Github (http://gree2.github.io/python/2015/04/10/python-matplotlib-plotting-examples-and-exercises), as a source of tutorials and sample code for plotting. \n",
    "\n",
    " "
   ]
  },
  {
   "cell_type": "markdown",
   "metadata": {
    "slideshow": {
     "slide_type": "slide"
    }
   },
   "source": [
    "## Why we are studying this:\n",
    "\n",
    "Plotting is one of the most important computational tasks used by  engineers and scientists.  \n",
    "\n",
    "Plots are used for:\n",
    "\n",
    "- checking computed results visually\n",
    "- understanding data\n",
    "- presenting data\n",
    "\n",
    "\n",
    "\n",
    "\n"
   ]
  },
  {
   "cell_type": "markdown",
   "metadata": {
    "slideshow": {
     "slide_type": "slide"
    }
   },
   "source": [
    "## Packages\n",
    "We will be using:\n",
    "- Numpy for numerical computation.\n",
    "- Matplotlib to produce figures and animations. \n",
    "- Ipywidgets to make our plots interactive"
   ]
  },
  {
   "cell_type": "code",
   "execution_count": 1,
   "metadata": {
    "collapsed": true,
    "slideshow": {
     "slide_type": "slide"
    }
   },
   "outputs": [],
   "source": [
    "import numpy as np\n",
    "\n",
    "# Plotting and animation\n",
    "import matplotlib\n",
    "from matplotlib import animation, rc\n",
    "import matplotlib.pyplot as plt\n",
    "import matplotlib.cm as cm\n",
    "%matplotlib inline\n",
    "\n",
    "# Interactive plotting\n",
    "try:\n",
    "    import ipywidgets\n",
    "except ImportError:\n",
    "    try:\n",
    "        !{sys.executable} -m pip -q install ipywidgets\n",
    "        import ipywidgets\n",
    "    except ImportError:\n",
    "        !{sys.executable} -m pip -q --user install ipywidgets\n",
    "    finally:\n",
    "        !jupyter nbextension enable --py widgetsnbextension\n",
    "        print(\"You will need to refresh your browser page\")\n",
    "from ipywidgets import interact\n",
    "\n",
    "# Viewing animations in the notebook\n",
    "from IPython.display import HTML\n",
    "\n",
    "# Plotting in 3D\n",
    "from mpl_toolkits.mplot3d import axes3d\n",
    "\n",
    "# Viewing .gif animations in the notebook\n",
    "from IPython.display import Image\n",
    "from IPython.display import display"
   ]
  },
  {
   "cell_type": "markdown",
   "metadata": {
    "slideshow": {
     "slide_type": "slide"
    }
   },
   "source": [
    "## Line and Scatter Plots\n",
    "In the last seminar you learnt to use basic line and scatter plots.\n",
    "\n",
    "This section will discusss different ways that you can manipulate the appearance of these plots.\n",
    "\n"
   ]
  },
  {
   "cell_type": "markdown",
   "metadata": {
    "slideshow": {
     "slide_type": "subslide"
    }
   },
   "source": [
    "For a sample data set of values of $x$ and corresponding values of $f$:"
   ]
  },
  {
   "cell_type": "code",
   "execution_count": 2,
   "metadata": {
    "collapsed": true
   },
   "outputs": [],
   "source": [
    "x = [-1, 3, 4, 8 , 10]\n",
    "f = [-1, -2, 7, 13 , 1]"
   ]
  },
  {
   "cell_type": "markdown",
   "metadata": {},
   "source": [
    "We can produce a line plot.."
   ]
  },
  {
   "cell_type": "code",
   "execution_count": 3,
   "metadata": {
    "slideshow": {
     "slide_type": "subslide"
    }
   },
   "outputs": [
    {
     "data": {
      "text/plain": [
       "[<matplotlib.lines.Line2D at 0x1101db2e8>]"
      ]
     },
     "execution_count": 3,
     "metadata": {},
     "output_type": "execute_result"
    },
    {
     "data": {
      "image/png": "[encoded data removed]",
      "text/plain": [
       "<matplotlib.figure.Figure at 0x10e1de898>"
      ]
     },
     "metadata": {},
     "output_type": "display_data"
    }
   ],
   "source": [
    "plt.plot(x, f)"
   ]
  },
  {
   "cell_type": "markdown",
   "metadata": {
    "slideshow": {
     "slide_type": "subslide"
    }
   },
   "source": [
    "...or a scatter plot by adding the `formatstring 'o'`..."
   ]
  },
  {
   "cell_type": "code",
   "execution_count": 4,
   "metadata": {},
   "outputs": [
    {
     "data": {
      "text/plain": [
       "[<matplotlib.lines.Line2D at 0x110317940>]"
      ]
     },
     "execution_count": 4,
     "metadata": {},
     "output_type": "execute_result"
    },
    {
     "data": {
      "image/png": "[encoded data removed]",
      "text/plain": [
       "<matplotlib.figure.Figure at 0x110197be0>"
      ]
     },
     "metadata": {},
     "output_type": "display_data"
    }
   ],
   "source": [
    "plt.plot(x, f, 'o')  "
   ]
  },
  {
   "cell_type": "markdown",
   "metadata": {
    "slideshow": {
     "slide_type": "subslide"
    }
   },
   "source": [
    "...or a line plot with data points by adding the `formatstring '-o'`."
   ]
  },
  {
   "cell_type": "code",
   "execution_count": 5,
   "metadata": {},
   "outputs": [
    {
     "data": {
      "text/plain": [
       "[<matplotlib.lines.Line2D at 0x11041a8d0>]"
      ]
     },
     "execution_count": 5,
     "metadata": {},
     "output_type": "execute_result"
    },
    {
     "data": {
      "image/png": "[encoded data removed]",
      "text/plain": [
       "<matplotlib.figure.Figure at 0x11032cf98>"
      ]
     },
     "metadata": {},
     "output_type": "display_data"
    }
   ],
   "source": [
    "plt.plot(x, f, '-o')  "
   ]
  },
  {
   "cell_type": "markdown",
   "metadata": {
    "slideshow": {
     "slide_type": "subslide"
    }
   },
   "source": [
    "Notice the statement `[<matplotlib.lines.Line2D at 0x30990b0>]` appears each time (the numbers on your computer may look different). \n",
    "\n",
    "This is a handle to the line that is created with the last command in the code block (in this case `plt.plot(x, y)`). \n",
    "\n",
    "You can avoid printing this by putting a semicolon after the last command in the code block (so type `plot(x, y);`). \n",
    "\n",
    "(It can be useful to store this handle in a variable - we will discuss this later)."
   ]
  },
  {
   "cell_type": "markdown",
   "metadata": {
    "slideshow": {
     "slide_type": "subslide"
    }
   },
   "source": [
    "The `plot` function can take many arguments.\n",
    "\n",
    "Summary so far, `plot` can take:\n",
    " - One argument `plot(y)`, which plots `y` values along the vertical axis and enumerates the horizontal axis starting at 0.\n",
    " - Two arguments, `plot(x, y)`, which plots `y` vs `x`.\n",
    " - Three arguments `plot(x, y, formatstring)`, which plots `y` vs `x` using colors and markers defined in `formatstring`.\n",
    " \n",
    " "
   ]
  },
  {
   "cell_type": "markdown",
   "metadata": {
    "slideshow": {
     "slide_type": "subslide"
    }
   },
   "source": [
    "Using the `formatstring` argument we can chnage:\n",
    " - the colour of the plot\n",
    " - the style of the markers\n",
    " - the style of the line"
   ]
  },
  {
   "cell_type": "markdown",
   "metadata": {
    "slideshow": {
     "slide_type": "subslide"
    }
   },
   "source": [
    "In the example below:\n",
    " - `r` makes the plot red\n",
    " - `x` makes the markers crosses\n",
    " - `-` makes the line solid"
   ]
  },
  {
   "cell_type": "code",
   "execution_count": 7,
   "metadata": {},
   "outputs": [
    {
     "data": {
      "image/png": "[encoded data removed]",
      "text/plain": [
       "<matplotlib.figure.Figure at 0x1105454e0>"
      ]
     },
     "metadata": {},
     "output_type": "display_data"
    }
   ],
   "source": [
    "plt.plot(x, f, '-xr');"
   ]
  },
  {
   "cell_type": "markdown",
   "metadata": {},
   "source": [
    "Note the semi-colon when calling the `plot` function."
   ]
  },
  {
   "cell_type": "markdown",
   "metadata": {
    "slideshow": {
     "slide_type": "subslide"
    }
   },
   "source": [
    "Available colours, maker styles and line styles can be found in the matplotlib documentation. \n",
    " - Colour: https://matplotlib.org/2.0.2/api/colors_api.html\n",
    " - Marker style: https://matplotlib.org/api/markers_api.html\n",
    " - Line style: https://matplotlib.org/devdocs/gallery/lines_bars_and_markers/line_styles_reference.html"
   ]
  },
  {
   "cell_type": "markdown",
   "metadata": {
    "slideshow": {
     "slide_type": "subslide"
    }
   },
   "source": [
    "The `plot` function also takes a large number of keyword arguments. \n",
    "\n",
    "For example, to plot a line with width 6 (the default is 1): "
   ]
  },
  {
   "cell_type": "code",
   "execution_count": 8,
   "metadata": {},
   "outputs": [
    {
     "data": {
      "image/png": "[encoded data removed]",
      "text/plain": [
       "<matplotlib.figure.Figure at 0x110627da0>"
      ]
     },
     "metadata": {},
     "output_type": "display_data"
    }
   ],
   "source": [
    "plt.plot(x, f, '-xr', linewidth=6);"
   ]
  },
  {
   "cell_type": "markdown",
   "metadata": {
    "slideshow": {
     "slide_type": "subslide"
    }
   },
   "source": [
    "Remeber keyword arguments must always appear after regular arguments when calling the function.\n",
    "\n",
    "Documentation of all available keyword arguments can be found here: https://matplotlib.org/api/_as_gen/matplotlib.pyplot.plot.html#matplotlib.pyplot.plot"
   ]
  },
  {
   "cell_type": "markdown",
   "metadata": {
    "slideshow": {
     "slide_type": "subslide"
    }
   },
   "source": [
    "Other methods such as `legend`, `xlabel`, `ylabel` and `title` can be used to add useful information to a plot."
   ]
  },
  {
   "cell_type": "markdown",
   "metadata": {
    "slideshow": {
     "slide_type": "slide"
    }
   },
   "source": [
    "### Adding labels, legend and title. \n",
    "The location of the legend can be set the the 'best' in terms of not obscuring data. \n",
    "\n",
    "The position of the legend can also be set expllicitly instead. The location codes acan be found here: https://matplotlib.org/api/legend_api.html\n",
    "\n",
    "Using the $ sign can be used to italicise a string.\n",
    "\n",
    "The font size of all strings in the figure can be selected."
   ]
  },
  {
   "cell_type": "code",
   "execution_count": 9,
   "metadata": {
    "slideshow": {
     "slide_type": "subslide"
    }
   },
   "outputs": [
    {
     "data": {
      "image/png": "[encoded data removed]",
      "text/plain": [
       "<matplotlib.figure.Figure at 0x1105895c0>"
      ]
     },
     "metadata": {},
     "output_type": "display_data"
    }
   ],
   "source": [
    "# Use the label kwarg to create a name to use in the figure legend. \n",
    "plt.plot(x, f, '-xr', label=\"data 1\")\n",
    "\n",
    "# Legend\n",
    "plt.legend(loc='best', fontsize=12)\n",
    "\n",
    "# Axes labels\n",
    "plt.xlabel('$x$', fontsize=20)\n",
    "plt.ylabel('$f$', fontsize=20)\n",
    "\n",
    "# Title\n",
    "plt.title(\"Simple plot of $f$ against $x$\", fontsize=18);"
   ]
  },
  {
   "cell_type": "markdown",
   "metadata": {},
   "source": [
    "Note the semi-colon when calling the `title` function."
   ]
  },
  {
   "cell_type": "markdown",
   "metadata": {
    "slideshow": {
     "slide_type": "subslide"
    }
   },
   "source": [
    "### Setting the axis limits\n",
    "Example: plot the funstion $sin(x)$ for 100 equally spaced values of x between $0$ and $4 \\pi$ (inclusive). "
   ]
  },
  {
   "cell_type": "code",
   "execution_count": 10,
   "metadata": {
    "slideshow": {
     "slide_type": "subslide"
    }
   },
   "outputs": [
    {
     "data": {
      "text/plain": [
       "<matplotlib.text.Text at 0x1105b9128>"
      ]
     },
     "execution_count": 10,
     "metadata": {},
     "output_type": "execute_result"
    },
    {
     "data": {
      "image/png": "[encoded data removed]",
      "text/plain": [
       "<matplotlib.figure.Figure at 0x110523eb8>"
      ]
     },
     "metadata": {},
     "output_type": "display_data"
    }
   ],
   "source": [
    "num_points = 100\n",
    "x = np.linspace(0, 4*np.pi, num_points)\n",
    "f = np.sin(x)\n",
    "\n",
    "# Plot graph\n",
    "plt.plot(x, f);\n",
    "\n",
    "# Label axis\n",
    "plt.xlabel('$x$')\n",
    "plt.ylabel('$\\sin(x)$')\n",
    "\n"
   ]
  },
  {
   "cell_type": "markdown",
   "metadata": {
    "slideshow": {
     "slide_type": "subslide"
    }
   },
   "source": [
    "The zero on the x axis is offset by an unknown amount. \n",
    "\n",
    "We can improve the appearance of the plot by specifying the $x$ limits:"
   ]
  },
  {
   "cell_type": "code",
   "execution_count": 11,
   "metadata": {
    "slideshow": {
     "slide_type": "subslide"
    }
   },
   "outputs": [
    {
     "data": {
      "text/plain": [
       "(0.0, 12.566370614359172)"
      ]
     },
     "execution_count": 11,
     "metadata": {},
     "output_type": "execute_result"
    },
    {
     "data": {
      "image/png": "[encoded data removed]",
      "text/plain": [
       "<matplotlib.figure.Figure at 0x1104d1a90>"
      ]
     },
     "metadata": {},
     "output_type": "display_data"
    }
   ],
   "source": [
    "# Plot graph\n",
    "plt.plot(x, f);\n",
    "\n",
    "# Label axis\n",
    "plt.xlabel('$x$')\n",
    "plt.ylabel('$\\sin(x)$')\n",
    "\n",
    "# Use the start and end values in x as x limits \n",
    "plt.xlim(x[0], x[-1])"
   ]
  },
  {
   "cell_type": "markdown",
   "metadata": {
    "slideshow": {
     "slide_type": "subslide"
    }
   },
   "source": [
    "### Multiple Plots\n",
    "Plots can be overlaid by called `plt.plot(...` multiple times."
   ]
  },
  {
   "cell_type": "code",
   "execution_count": 12,
   "metadata": {},
   "outputs": [
    {
     "data": {
      "image/png": "[encoded data removed]",
      "text/plain": [
       "<matplotlib.figure.Figure at 0x1107e9c18>"
      ]
     },
     "metadata": {},
     "output_type": "display_data"
    }
   ],
   "source": [
    "# Plot sin(x) and cos(x), and add label for each\n",
    "plt.plot(x, np.sin(x), label=\"$\\sin(x)$\");\n",
    "plt.plot(x, np.cos(x), label=\"$\\cos(x)$\");\n",
    "\n",
    "# Label the x-axis\n",
    "plt.xlabel('$x$');\n",
    "\n",
    "# Add legend\n",
    "plt.legend();\n",
    "\n",
    "# Use the start and end values in x as x limits\n",
    "plt.xlim(x[0], x[-1]);"
   ]
  },
  {
   "cell_type": "markdown",
   "metadata": {
    "slideshow": {
     "slide_type": "subslide"
    }
   },
   "source": [
    "### Saving a Plot\n",
    "A plot can be saved as a file for your to use e.g. in a report.\n",
    "\n",
    "A file name should be given.\n",
    "\n",
    "The file type is specified using the file extension.\n",
    "\n",
    "`/` can be used to seperate the names of nested folders.\n",
    "\n"
   ]
  },
  {
   "cell_type": "markdown",
   "metadata": {
    "slideshow": {
     "slide_type": "subslide"
    }
   },
   "source": [
    "In the example below, the graph is saved as a pdf and a png file in the `img` folder in your directory. \n",
    "\n",
    "Run the code in the cell below then open the folder `img` using the file browser on your computer to verify that the files were generated by noting the time stamp shown for each file. "
   ]
  },
  {
   "cell_type": "code",
   "execution_count": 13,
   "metadata": {
    "slideshow": {
     "slide_type": "-"
    }
   },
   "outputs": [
    {
     "data": {
      "text/plain": [
       "<matplotlib.figure.Figure at 0x1104d1208>"
      ]
     },
     "metadata": {},
     "output_type": "display_data"
    }
   ],
   "source": [
    "# Save plot to file\n",
    "plt.savefig(\"img/my-plot.pdf\")\n",
    "plt.savefig(\"img/my-plot.png\")"
   ]
  },
  {
   "cell_type": "markdown",
   "metadata": {
    "slideshow": {
     "slide_type": "subslide"
    }
   },
   "source": [
    "__Try it yourself__\n",
    "<br>In the cell below:\n",
    "- create a green line plot of the function $sin^2(x)$ (or $(sin(x))^2$) using the range of $x$ from the last example. \n",
    "- add a blue triangular marker at $x=\\frac{\\pi}{2}, \\pi, \\frac{3\\pi}{2}, 2\\pi, \\frac{5\\pi}{2}, 3\\pi, \\frac{7\\pi}{2}$ and $4\\pi$.\n",
    "- label the axes\n",
    "- save the figure as a .jpg file in the `img` folder in your repository.\n"
   ]
  },
  {
   "cell_type": "code",
   "execution_count": 91,
   "metadata": {
    "collapsed": true
   },
   "outputs": [],
   "source": [
    "# line and scatter graphs"
   ]
  },
  {
   "cell_type": "markdown",
   "metadata": {
    "slideshow": {
     "slide_type": "subslide"
    }
   },
   "source": [
    "## Bar charts and Histograms\n",
    "### Bar charts\n",
    "To represent data as a bar chart, for example, the number of students in each year of a degree program:"
   ]
  },
  {
   "cell_type": "code",
   "execution_count": 14,
   "metadata": {
    "collapsed": true
   },
   "outputs": [],
   "source": [
    "year_groups = ('B1', 'B2', 'B3', 'M1', 'M2')\n",
    "num_students = (500, 332, 425, 300, 200)"
   ]
  },
  {
   "cell_type": "code",
   "execution_count": 15,
   "metadata": {
    "slideshow": {
     "slide_type": "subslide"
    }
   },
   "outputs": [
    {
     "data": {
      "image/png": "[encoded data removed]",
      "text/plain": [
       "<matplotlib.figure.Figure at 0x110bef470>"
      ]
     },
     "metadata": {},
     "output_type": "display_data"
    }
   ],
   "source": [
    "# Create an array with the position of each bar along the x-axis\n",
    "x_pos = np.arange(len(year_groups))\n",
    "\n",
    "# Produce bar plot\n",
    "plt.bar(x_pos, num_students);\n",
    "\n",
    "# Replace the x ticks with the year group name\n",
    "# Rotate labels 30 degrees\n",
    "plt.xticks(x_pos, year_groups, rotation=30);\n",
    "\n",
    "# Add axis labels \n",
    "plt.xlabel('year group');\n",
    "plt.ylabel('number of students');"
   ]
  },
  {
   "cell_type": "markdown",
   "metadata": {
    "slideshow": {
     "slide_type": "subslide"
    }
   },
   "source": [
    "## Histograms\n",
    "\n",
    "We can visualise the distribution of the values using a histogram.\n",
    "\n",
    "In a histogram, data is sorted into intervals (bins) along the horizontal axis. \n",
    "\n",
    "The number of values that fall within a 'bin' is then displayed on the vertical axis."
   ]
  },
  {
   "cell_type": "markdown",
   "metadata": {
    "slideshow": {
     "slide_type": "subslide"
    }
   },
   "source": [
    "To create a histogram we first need a data set. \n",
    "\n",
    "For example we can use Numpy to generate a data set with:\n",
    "- 4000 random values\n",
    "- a mean value of zero \n",
    "- a standard deviation of 1\n",
    "- a __normal__ (Gaussian) distribution (bell curve with 68% percent of values within one standard deviation of the mean)\n",
    "\n"
   ]
  },
  {
   "cell_type": "code",
   "execution_count": 16,
   "metadata": {
    "collapsed": true,
    "slideshow": {
     "slide_type": "-"
    }
   },
   "outputs": [],
   "source": [
    "# loc=mean, scale=stddev, size=num samples\n",
    "x = np.random.normal(loc=0.0, scale=1.0, size=4000)  "
   ]
  },
  {
   "cell_type": "markdown",
   "metadata": {
    "slideshow": {
     "slide_type": "subslide"
    }
   },
   "source": [
    "We can visualise how `x` is distributed, using 20 bins. \n",
    "\n",
    "Matplotlib creates 20 bins of equal width, and computes the number of entries in each bin. "
   ]
  },
  {
   "cell_type": "code",
   "execution_count": 17,
   "metadata": {},
   "outputs": [
    {
     "data": {
      "text/plain": [
       "<matplotlib.text.Text at 0x110aa8748>"
      ]
     },
     "execution_count": 17,
     "metadata": {},
     "output_type": "execute_result"
    },
    {
     "data": {
      "image/png": "[encoded data removed]",
      "text/plain": [
       "<matplotlib.figure.Figure at 0x110b46da0>"
      ]
     },
     "metadata": {},
     "output_type": "display_data"
    }
   ],
   "source": [
    "# Produce histogram with 20 bins\n",
    "n, bins, patches = plt.hist(x, 20, facecolor='green');\n",
    "\n",
    "# Add label\n",
    "plt.xlabel('value')\n",
    "plt.ylabel('frequency')\n",
    "\n"
   ]
  },
  {
   "cell_type": "markdown",
   "metadata": {
    "slideshow": {
     "slide_type": "subslide"
    }
   },
   "source": [
    "To view a list of:\n",
    "- the bin intervals\n",
    "- the number of values in each bin. "
   ]
  },
  {
   "cell_type": "code",
   "execution_count": 96,
   "metadata": {
    "slideshow": {
     "slide_type": "subslide"
    }
   },
   "outputs": [
    {
     "name": "stdout",
     "output_type": "stream",
     "text": [
      "[-4.30181325 -3.90466905 -3.50752484 -3.11038063 -2.71323643 -2.31609222\n",
      " -1.91894801 -1.52180381 -1.1246596  -0.7275154  -0.33037119  0.06677302\n",
      "  0.46391722  0.86106143  1.25820564  1.65534984  2.05249405  2.44963826\n",
      "  2.84678246  3.24392667  3.64107087]\n"
     ]
    }
   ],
   "source": [
    "print(bins)\n"
   ]
  },
  {
   "cell_type": "code",
   "execution_count": 97,
   "metadata": {
    "slideshow": {
     "slide_type": "subslide"
    }
   },
   "outputs": [
    {
     "name": "stdout",
     "output_type": "stream",
     "text": [
      "[   1.    0.    3.   12.   28.   61.  119.  258.  408.  548.  645.  616.\n",
      "  500.  355.  223.  135.   55.   22.    5.    6.]\n"
     ]
    }
   ],
   "source": [
    "print(n)"
   ]
  },
  {
   "cell_type": "markdown",
   "metadata": {
    "slideshow": {
     "slide_type": "subslide"
    }
   },
   "source": [
    "__Try it yourself__\n",
    "<br>In the example above try changing the number of bins and run the cells again to see the change in the bin intervals and number of values in ech bin. "
   ]
  },
  {
   "cell_type": "markdown",
   "metadata": {
    "slideshow": {
     "slide_type": "subslide"
    }
   },
   "source": [
    "## Interactive plots\n",
    "By using interactive plots we can explore the influence that changing different parameters has on an output.\n",
    "\n"
   ]
  },
  {
   "cell_type": "markdown",
   "metadata": {
    "slideshow": {
     "slide_type": "subslide"
    }
   },
   "source": [
    "As a simple example, we will plot\n",
    "\n",
    "$$\n",
    "f(t) = t^{\\alpha} \\sin(\\omega t)\n",
    "$$\n",
    "\n",
    "where $\\alpha$ and $\\omega$ are parameters. \n",
    "\n",
    "We will create two sliders allowing us to change the value of $\\alpha$ and $\\omega$ and observe the change in $f(t)$"
   ]
  },
  {
   "cell_type": "markdown",
   "metadata": {
    "slideshow": {
     "slide_type": "subslide"
    }
   },
   "source": [
    "Interactive plots be can created using module `ipywidgets` module which we imported at the start of the notebook. \n",
    ">```Python\n",
    "try:\n",
    "    import ipywidgets\n",
    "except ImportError:\n",
    "    try:\n",
    "        !{sys.executable} -m pip -q install ipywidgets\n",
    "        import ipywidgets\n",
    "    except ImportError:\n",
    "        !{sys.executable} -m pip -q --user install ipywidgets\n",
    "    finally:\n",
    "        !jupyter nbextension enable --py widgetsnbextension\n",
    "        print(\"You will need to refresh your browser page\")        \n",
    "from ipywidgets import interact\n",
    "```\n",
    "\n"
   ]
  },
  {
   "cell_type": "markdown",
   "metadata": {
    "slideshow": {
     "slide_type": "subslide"
    }
   },
   "source": [
    "We write the code to generate the plot as usual.\n",
    "\n",
    "(To generate symbols α or ω type `\\omega` or `\\alpha`, pressing  `Tab` key at the end.)"
   ]
  },
  {
   "cell_type": "code",
   "execution_count": 18,
   "metadata": {},
   "outputs": [
    {
     "data": {
      "text/plain": [
       "<matplotlib.text.Text at 0x110545438>"
      ]
     },
     "execution_count": 18,
     "metadata": {},
     "output_type": "execute_result"
    },
    {
     "data": {
      "image/png": "[encoded data removed]",
      "text/plain": [
       "<matplotlib.figure.Figure at 0x1105257b8>"
      ]
     },
     "metadata": {},
     "output_type": "display_data"
    }
   ],
   "source": [
    "ω=1\n",
    "α=0\n",
    "t = np.linspace(0, 2*np.pi, 200)  \n",
    "\n",
    "plt.plot(t, (t**α)*np.sin(ω*t))\n",
    "\n",
    "plt.xlabel('$t$')\n",
    "plt.ylabel('$f$')\n",
    "plt.title(r\"$\\alpha$ = {}, $\\omega$ = {}\".format(α, ω))\n",
    "\n",
    "\n"
   ]
  },
  {
   "cell_type": "markdown",
   "metadata": {
    "slideshow": {
     "slide_type": "subslide"
    }
   },
   "source": [
    "We encasulate the code to generate the plot within a function.\n",
    "\n",
    "The parameters we want to vary are given as function arguments."
   ]
  },
  {
   "cell_type": "code",
   "execution_count": 19,
   "metadata": {
    "collapsed": true
   },
   "outputs": [],
   "source": [
    "def plot(ω=1, α=0):\n",
    "    \"A plot of the function f(t)= (t**α)*np.sin(ω*t)\"\n",
    "    t = np.linspace(0, 2*np.pi, 200)  \n",
    "    \n",
    "    plt.plot(t, (t**α)*np.sin(ω*t))\n",
    "    \n",
    "    plt.xlabel('$t$')\n",
    "    plt.ylabel('$f$')\n",
    "    plt.title(r\"$\\alpha$ = {}, $\\omega$ = {}\".format(α, ω))\n",
    "    \n",
    "    \n"
   ]
  },
  {
   "cell_type": "markdown",
   "metadata": {
    "slideshow": {
     "slide_type": "subslide"
    }
   },
   "source": [
    "The `interact` function, takes the following arguments:\n",
    "- the plotting function \n",
    "- a tuple for each variable parameter:\n",
    " - maximum value (inclusive) \n",
    " - minimum value (inclusive) \n",
    " - step size between each possible value"
   ]
  },
  {
   "cell_type": "code",
   "execution_count": 20,
   "metadata": {},
   "outputs": [
    {
     "data": {
      "application/vnd.jupyter.widget-view+json": {
       "model_id": "72e5e126ede54c1c9f4e8601916f2680",
       "version_major": 2,
       "version_minor": 0
      },
      "text/plain": [
       "A Jupyter Widget"
      ]
     },
     "metadata": {},
     "output_type": "display_data"
    }
   ],
   "source": [
    "interact(plot, ω=(-10, 10, 0.25), α=(0, 2, 0.25));"
   ]
  },
  {
   "cell_type": "markdown",
   "metadata": {},
   "source": [
    "You can now adjust the values by moving the sliders.\n",
    "\n",
    "The new values appear as the title to the plot."
   ]
  },
  {
   "cell_type": "markdown",
   "metadata": {
    "slideshow": {
     "slide_type": "slide"
    }
   },
   "source": [
    "## Animated Plots\n",
    "\n",
    "Plotting can be a very useful way to visualise what is happening in a dynamic physical system. \n",
    "\n",
    "Matplotlib can be used to create animated plots showing the change in a system over time."
   ]
  },
  {
   "cell_type": "markdown",
   "metadata": {
    "slideshow": {
     "slide_type": "subslide"
    }
   },
   "source": [
    "We will use the `animation` and `rc` subpackages.  \n",
    "\n",
    ">from matplotlib import animation, rc\n",
    "\n",
    "We will also use a package to allow us to view the animated output within jupyter notebook.\n",
    "\n",
    ">from IPython.display import HTML\n",
    "\n",
    "These packages were imported at the start of this notebook."
   ]
  },
  {
   "cell_type": "markdown",
   "metadata": {
    "slideshow": {
     "slide_type": "subslide"
    }
   },
   "source": [
    "Let's start with a simple example to learn how to build an animation.\n",
    "\n",
    "We will then move onto an example of a physical model that you may study in one of your other subjects. \n",
    "\n"
   ]
  },
  {
   "cell_type": "markdown",
   "metadata": {},
   "source": [
    "The set of steps to build an animated plot is:\n",
    "1. Create a figure window\n",
    "1. Create axes within the window\n",
    "1. Create object(s) to animate e.g. a line or point\n",
    "1. Define an animation function for the change you want to see at each timestep\n",
    "1. Use the function `animation.FuncAnimation` to create your animation and give it a name.\n",
    "1. Call the animation name to play it.\n",
    "1. (Save the animation)"
   ]
  },
  {
   "cell_type": "markdown",
   "metadata": {},
   "source": [
    "Example: An animated sine wave. "
   ]
  },
  {
   "cell_type": "code",
   "execution_count": 25,
   "metadata": {
    "scrolled": true
   },
   "outputs": [
    {
     "data": {
      "image/png": "[encoded data removed]",
      "text/plain": [
       "<matplotlib.figure.Figure at 0x110b46e80>"
      ]
     },
     "metadata": {},
     "output_type": "display_data"
    }
   ],
   "source": [
    "# 1. Create a figure window. \n",
    "fig = plt.figure()\n",
    "\n",
    "# 2. Creates axes within the window\n",
    "ax = plt.axes(xlim=(0, 2), ylim=(-2, 2))\n",
    "\n",
    "# 3. Empty object (no data opints) to animate e.g. a line \n",
    "# Name must end with a `,` comma.  \n",
    "line, = ax.plot([], [], lw=2)\n",
    "\n"
   ]
  },
  {
   "cell_type": "code",
   "execution_count": 24,
   "metadata": {
    "slideshow": {
     "slide_type": "subslide"
    }
   },
   "outputs": [],
   "source": [
    "# 4. Animation function: called sequentially\n",
    "# i = frame number.\n",
    "# Sine wave generated, phase shift proportional to i\n",
    "def animate(i):\n",
    "    x = np.linspace(0, 2, 1000)\n",
    "    y = np.sin(2 * np.pi * (x - (0.01 * i)))\n",
    "    line.set_data(x, y)\n",
    "    # single return arguments should be given as a tuple with one value\n",
    "    return (line,)\n",
    "    \n"
   ]
  },
  {
   "cell_type": "markdown",
   "metadata": {},
   "source": [
    "When returning a single argument (e.g. `line`) it is returned as a tuple with one value i.e. `(line, )`."
   ]
  },
  {
   "cell_type": "code",
   "execution_count": 26,
   "metadata": {
    "slideshow": {
     "slide_type": "subslide"
    }
   },
   "outputs": [
    {
     "ename": "RuntimeError",
     "evalue": "No MovieWriters available!",
     "output_type": "error",
     "traceback": [
      "\u001b[0;31m---------------------------------------------------------------------------\u001b[0m",
      "\u001b[0;31mRuntimeError\u001b[0m                              Traceback (most recent call last)",
      "\u001b[0;32m~/anaconda3/lib/python3.6/site-packages/IPython/core/formatters.py\u001b[0m in \u001b[0;36m__call__\u001b[0;34m(self, obj)\u001b[0m\n\u001b[1;32m    334\u001b[0m             \u001b[0mmethod\u001b[0m \u001b[0;34m=\u001b[0m \u001b[0mget_real_method\u001b[0m\u001b[0;34m(\u001b[0m\u001b[0mobj\u001b[0m\u001b[0;34m,\u001b[0m \u001b[0mself\u001b[0m\u001b[0;34m.\u001b[0m\u001b[0mprint_method\u001b[0m\u001b[0;34m)\u001b[0m\u001b[0;34m\u001b[0m\u001b[0m\n\u001b[1;32m    335\u001b[0m             \u001b[0;32mif\u001b[0m \u001b[0mmethod\u001b[0m \u001b[0;32mis\u001b[0m \u001b[0;32mnot\u001b[0m \u001b[0;32mNone\u001b[0m\u001b[0;34m:\u001b[0m\u001b[0;34m\u001b[0m\u001b[0m\n\u001b[0;32m--> 336\u001b[0;31m                 \u001b[0;32mreturn\u001b[0m \u001b[0mmethod\u001b[0m\u001b[0;34m(\u001b[0m\u001b[0;34m)\u001b[0m\u001b[0;34m\u001b[0m\u001b[0m\n\u001b[0m\u001b[1;32m    337\u001b[0m             \u001b[0;32mreturn\u001b[0m \u001b[0;32mNone\u001b[0m\u001b[0;34m\u001b[0m\u001b[0m\n\u001b[1;32m    338\u001b[0m         \u001b[0;32melse\u001b[0m\u001b[0;34m:\u001b[0m\u001b[0;34m\u001b[0m\u001b[0m\n",
      "\u001b[0;32m~/anaconda3/lib/python3.6/site-packages/matplotlib/animation.py\u001b[0m in \u001b[0;36m_repr_html_\u001b[0;34m(self)\u001b[0m\n\u001b[1;32m   1233\u001b[0m         \u001b[0mfmt\u001b[0m \u001b[0;34m=\u001b[0m \u001b[0mrcParams\u001b[0m\u001b[0;34m[\u001b[0m\u001b[0;34m'animation.html'\u001b[0m\u001b[0;34m]\u001b[0m\u001b[0;34m\u001b[0m\u001b[0m\n\u001b[1;32m   1234\u001b[0m         \u001b[0;32mif\u001b[0m \u001b[0mfmt\u001b[0m \u001b[0;34m==\u001b[0m \u001b[0;34m'html5'\u001b[0m\u001b[0;34m:\u001b[0m\u001b[0;34m\u001b[0m\u001b[0m\n\u001b[0;32m-> 1235\u001b[0;31m             \u001b[0;32mreturn\u001b[0m \u001b[0mself\u001b[0m\u001b[0;34m.\u001b[0m\u001b[0mto_html5_video\u001b[0m\u001b[0;34m(\u001b[0m\u001b[0;34m)\u001b[0m\u001b[0;34m\u001b[0m\u001b[0m\n\u001b[0m\u001b[1;32m   1236\u001b[0m \u001b[0;34m\u001b[0m\u001b[0m\n\u001b[1;32m   1237\u001b[0m \u001b[0;34m\u001b[0m\u001b[0m\n",
      "\u001b[0;32m~/anaconda3/lib/python3.6/site-packages/matplotlib/animation.py\u001b[0m in \u001b[0;36mto_html5_video\u001b[0;34m(self)\u001b[0m\n\u001b[1;32m   1203\u001b[0m                 \u001b[0;31m# We create a writer manually so that we can get the\u001b[0m\u001b[0;34m\u001b[0m\u001b[0;34m\u001b[0m\u001b[0m\n\u001b[1;32m   1204\u001b[0m                 \u001b[0;31m# appropriate size for the tag\u001b[0m\u001b[0;34m\u001b[0m\u001b[0;34m\u001b[0m\u001b[0m\n\u001b[0;32m-> 1205\u001b[0;31m                 \u001b[0mWriter\u001b[0m \u001b[0;34m=\u001b[0m \u001b[0mwriters\u001b[0m\u001b[0;34m[\u001b[0m\u001b[0mrcParams\u001b[0m\u001b[0;34m[\u001b[0m\u001b[0;34m'animation.writer'\u001b[0m\u001b[0;34m]\u001b[0m\u001b[0;34m]\u001b[0m\u001b[0;34m\u001b[0m\u001b[0m\n\u001b[0m\u001b[1;32m   1206\u001b[0m                 writer = Writer(codec='h264',\n\u001b[1;32m   1207\u001b[0m                                 \u001b[0mbitrate\u001b[0m\u001b[0;34m=\u001b[0m\u001b[0mrcParams\u001b[0m\u001b[0;34m[\u001b[0m\u001b[0;34m'animation.bitrate'\u001b[0m\u001b[0;34m]\u001b[0m\u001b[0;34m,\u001b[0m\u001b[0;34m\u001b[0m\u001b[0m\n",
      "\u001b[0;32m~/anaconda3/lib/python3.6/site-packages/matplotlib/animation.py\u001b[0m in \u001b[0;36m__getitem__\u001b[0;34m(self, name)\u001b[0m\n\u001b[1;32m    157\u001b[0m         \u001b[0mself\u001b[0m\u001b[0;34m.\u001b[0m\u001b[0mensure_not_dirty\u001b[0m\u001b[0;34m(\u001b[0m\u001b[0;34m)\u001b[0m\u001b[0;34m\u001b[0m\u001b[0m\n\u001b[1;32m    158\u001b[0m         \u001b[0;32mif\u001b[0m \u001b[0;32mnot\u001b[0m \u001b[0mself\u001b[0m\u001b[0;34m.\u001b[0m\u001b[0mavail\u001b[0m\u001b[0;34m:\u001b[0m\u001b[0;34m\u001b[0m\u001b[0m\n\u001b[0;32m--> 159\u001b[0;31m             \u001b[0;32mraise\u001b[0m \u001b[0mRuntimeError\u001b[0m\u001b[0;34m(\u001b[0m\u001b[0;34m\"No MovieWriters available!\"\u001b[0m\u001b[0;34m)\u001b[0m\u001b[0;34m\u001b[0m\u001b[0m\n\u001b[0m\u001b[1;32m    160\u001b[0m         \u001b[0;32mreturn\u001b[0m \u001b[0mself\u001b[0m\u001b[0;34m.\u001b[0m\u001b[0mavail\u001b[0m\u001b[0;34m[\u001b[0m\u001b[0mname\u001b[0m\u001b[0;34m]\u001b[0m\u001b[0;34m\u001b[0m\u001b[0m\n\u001b[1;32m    161\u001b[0m \u001b[0;34m\u001b[0m\u001b[0m\n",
      "\u001b[0;31mRuntimeError\u001b[0m: No MovieWriters available!"
     ]
    },
    {
     "data": {
      "text/plain": [
       "<matplotlib.animation.FuncAnimation at 0x118742e10>"
      ]
     },
     "execution_count": 26,
     "metadata": {},
     "output_type": "execute_result"
    }
   ],
   "source": [
    "# 5. Animates the data; 100 frames, 20ms delay between frames, blit=True : only re-draw the parts that have changed.\n",
    "anim = animation.FuncAnimation(fig, animate, frames=100, interval=20, blit=True)\n",
    "\n",
    "# Set the animation display format to html which the non-Python parts of this notebook are written in.\n",
    "rc('animation', html='html5')\n",
    "\n",
    "# 6. Play the animation \n",
    "anim\n",
    "\n",
    "# 7. Save the animation as a .mp4 file\n",
    "# 15 frames per second\n",
    "# 1800 bits of data processed/stored per second\n",
    "# writer = animation.writers['ffmpeg'](fps=15, bitrate=1800)\n",
    "# anim.save('img/sin_movie.mp4', writer=writer)"
   ]
  },
  {
   "cell_type": "markdown",
   "metadata": {
    "slideshow": {
     "slide_type": "subslide"
    }
   },
   "source": [
    "### Simulating Physical Systems: Spring-Mass System\n",
    "If you are studying an engineering-related subject, you will most likely study simple harmonic motion; a type of periodic motion or oscillation motion.\n",
    "\n",
    "For this oscillation to happen, the restoring force is:\n",
    "- directly proportional to the displacement\n",
    "- in the direction opposite to the displacement.\n",
    "\n",
    "\n",
    "\n"
   ]
  },
  {
   "cell_type": "markdown",
   "metadata": {
    "slideshow": {
     "slide_type": "subslide"
    }
   },
   "source": [
    "A typical example of this is a mass attached to a spring.\n",
    "\n",
    "<img src=\"img/spring_mass_system.gif\" alt=\"Drawing\" style=\"width: 500px;\"/>\n",
    "\n"
   ]
  },
  {
   "cell_type": "markdown",
   "metadata": {
    "slideshow": {
     "slide_type": "subslide"
    }
   },
   "source": [
    "If we assume that:\n",
    " - the spring is ideal (it has no weight, mass, or damping losses)\n",
    " - there is no friction \n",
    " \n",
    "we can use a simple equation to give the position of the mass, $x$, as a function of time, $t$:\n",
    "\n",
    "$x(t) = A cos(\\omega t - \\phi)$ \n",
    "\n",
    "where:\n",
    "<br>$A$: Maximum amplitude (displacment from initial position), defined by the initial conditions of the system.\n",
    "<br>$\\phi$ : Phase (the initial angle of a sinusoidal function at its origin)\n",
    "<br>$\\omega$ : Angular frequency (frequency of oscillation expressed in radians)\n",
    "\n"
   ]
  },
  {
   "cell_type": "markdown",
   "metadata": {
    "slideshow": {
     "slide_type": "subslide"
    }
   },
   "source": [
    "Angular frequency\n",
    "\n",
    "$\\omega=2\\pi f = \\sqrt{\\frac{k}{m}}$\n",
    "\n",
    "where\n",
    "<br>$k$ : spring constant\n",
    "<br>$m$ : mass (kg)\n",
    "<br>$f$ : frequency (Hz)"
   ]
  },
  {
   "cell_type": "code",
   "execution_count": 27,
   "metadata": {
    "slideshow": {
     "slide_type": "subslide"
    }
   },
   "outputs": [
    {
     "ename": "RuntimeError",
     "evalue": "No MovieWriters available!",
     "output_type": "error",
     "traceback": [
      "\u001b[0;31m---------------------------------------------------------------------------\u001b[0m",
      "\u001b[0;31mRuntimeError\u001b[0m                              Traceback (most recent call last)",
      "\u001b[0;32m~/anaconda3/lib/python3.6/site-packages/IPython/core/formatters.py\u001b[0m in \u001b[0;36m__call__\u001b[0;34m(self, obj)\u001b[0m\n\u001b[1;32m    334\u001b[0m             \u001b[0mmethod\u001b[0m \u001b[0;34m=\u001b[0m \u001b[0mget_real_method\u001b[0m\u001b[0;34m(\u001b[0m\u001b[0mobj\u001b[0m\u001b[0;34m,\u001b[0m \u001b[0mself\u001b[0m\u001b[0;34m.\u001b[0m\u001b[0mprint_method\u001b[0m\u001b[0;34m)\u001b[0m\u001b[0;34m\u001b[0m\u001b[0m\n\u001b[1;32m    335\u001b[0m             \u001b[0;32mif\u001b[0m \u001b[0mmethod\u001b[0m \u001b[0;32mis\u001b[0m \u001b[0;32mnot\u001b[0m \u001b[0;32mNone\u001b[0m\u001b[0;34m:\u001b[0m\u001b[0;34m\u001b[0m\u001b[0m\n\u001b[0;32m--> 336\u001b[0;31m                 \u001b[0;32mreturn\u001b[0m \u001b[0mmethod\u001b[0m\u001b[0;34m(\u001b[0m\u001b[0;34m)\u001b[0m\u001b[0;34m\u001b[0m\u001b[0m\n\u001b[0m\u001b[1;32m    337\u001b[0m             \u001b[0;32mreturn\u001b[0m \u001b[0;32mNone\u001b[0m\u001b[0;34m\u001b[0m\u001b[0m\n\u001b[1;32m    338\u001b[0m         \u001b[0;32melse\u001b[0m\u001b[0;34m:\u001b[0m\u001b[0;34m\u001b[0m\u001b[0m\n",
      "\u001b[0;32m~/anaconda3/lib/python3.6/site-packages/matplotlib/animation.py\u001b[0m in \u001b[0;36m_repr_html_\u001b[0;34m(self)\u001b[0m\n\u001b[1;32m   1233\u001b[0m         \u001b[0mfmt\u001b[0m \u001b[0;34m=\u001b[0m \u001b[0mrcParams\u001b[0m\u001b[0;34m[\u001b[0m\u001b[0;34m'animation.html'\u001b[0m\u001b[0;34m]\u001b[0m\u001b[0;34m\u001b[0m\u001b[0m\n\u001b[1;32m   1234\u001b[0m         \u001b[0;32mif\u001b[0m \u001b[0mfmt\u001b[0m \u001b[0;34m==\u001b[0m \u001b[0;34m'html5'\u001b[0m\u001b[0;34m:\u001b[0m\u001b[0;34m\u001b[0m\u001b[0m\n\u001b[0;32m-> 1235\u001b[0;31m             \u001b[0;32mreturn\u001b[0m \u001b[0mself\u001b[0m\u001b[0;34m.\u001b[0m\u001b[0mto_html5_video\u001b[0m\u001b[0;34m(\u001b[0m\u001b[0;34m)\u001b[0m\u001b[0;34m\u001b[0m\u001b[0m\n\u001b[0m\u001b[1;32m   1236\u001b[0m \u001b[0;34m\u001b[0m\u001b[0m\n\u001b[1;32m   1237\u001b[0m \u001b[0;34m\u001b[0m\u001b[0m\n",
      "\u001b[0;32m~/anaconda3/lib/python3.6/site-packages/matplotlib/animation.py\u001b[0m in \u001b[0;36mto_html5_video\u001b[0;34m(self)\u001b[0m\n\u001b[1;32m   1203\u001b[0m                 \u001b[0;31m# We create a writer manually so that we can get the\u001b[0m\u001b[0;34m\u001b[0m\u001b[0;34m\u001b[0m\u001b[0m\n\u001b[1;32m   1204\u001b[0m                 \u001b[0;31m# appropriate size for the tag\u001b[0m\u001b[0;34m\u001b[0m\u001b[0;34m\u001b[0m\u001b[0m\n\u001b[0;32m-> 1205\u001b[0;31m                 \u001b[0mWriter\u001b[0m \u001b[0;34m=\u001b[0m \u001b[0mwriters\u001b[0m\u001b[0;34m[\u001b[0m\u001b[0mrcParams\u001b[0m\u001b[0;34m[\u001b[0m\u001b[0;34m'animation.writer'\u001b[0m\u001b[0;34m]\u001b[0m\u001b[0;34m]\u001b[0m\u001b[0;34m\u001b[0m\u001b[0m\n\u001b[0m\u001b[1;32m   1206\u001b[0m                 writer = Writer(codec='h264',\n\u001b[1;32m   1207\u001b[0m                                 \u001b[0mbitrate\u001b[0m\u001b[0;34m=\u001b[0m\u001b[0mrcParams\u001b[0m\u001b[0;34m[\u001b[0m\u001b[0;34m'animation.bitrate'\u001b[0m\u001b[0;34m]\u001b[0m\u001b[0;34m,\u001b[0m\u001b[0;34m\u001b[0m\u001b[0m\n",
      "\u001b[0;32m~/anaconda3/lib/python3.6/site-packages/matplotlib/animation.py\u001b[0m in \u001b[0;36m__getitem__\u001b[0;34m(self, name)\u001b[0m\n\u001b[1;32m    157\u001b[0m         \u001b[0mself\u001b[0m\u001b[0;34m.\u001b[0m\u001b[0mensure_not_dirty\u001b[0m\u001b[0;34m(\u001b[0m\u001b[0;34m)\u001b[0m\u001b[0;34m\u001b[0m\u001b[0m\n\u001b[1;32m    158\u001b[0m         \u001b[0;32mif\u001b[0m \u001b[0;32mnot\u001b[0m \u001b[0mself\u001b[0m\u001b[0;34m.\u001b[0m\u001b[0mavail\u001b[0m\u001b[0;34m:\u001b[0m\u001b[0;34m\u001b[0m\u001b[0m\n\u001b[0;32m--> 159\u001b[0;31m             \u001b[0;32mraise\u001b[0m \u001b[0mRuntimeError\u001b[0m\u001b[0;34m(\u001b[0m\u001b[0;34m\"No MovieWriters available!\"\u001b[0m\u001b[0;34m)\u001b[0m\u001b[0;34m\u001b[0m\u001b[0m\n\u001b[0m\u001b[1;32m    160\u001b[0m         \u001b[0;32mreturn\u001b[0m \u001b[0mself\u001b[0m\u001b[0;34m.\u001b[0m\u001b[0mavail\u001b[0m\u001b[0;34m[\u001b[0m\u001b[0mname\u001b[0m\u001b[0;34m]\u001b[0m\u001b[0;34m\u001b[0m\u001b[0m\n\u001b[1;32m    161\u001b[0m \u001b[0;34m\u001b[0m\u001b[0m\n",
      "\u001b[0;31mRuntimeError\u001b[0m: No MovieWriters available!"
     ]
    },
    {
     "data": {
      "text/plain": [
       "<matplotlib.animation.FuncAnimation at 0x1106847f0>"
      ]
     },
     "execution_count": 27,
     "metadata": {},
     "output_type": "execute_result"
    },
    {
     "data": {
      "image/png": "[encoded data removed]",
      "text/plain": [
       "<matplotlib.figure.Figure at 0x11870ad68>"
      ]
     },
     "metadata": {},
     "output_type": "display_data"
    }
   ],
   "source": [
    "# 1. Create a figure window.\n",
    "fig = plt.figure()\n",
    "\n",
    "# 2. Create axes within the window\n",
    "ax = plt.axes(xlim=(-2, 2), ylim=(-3.5,3.5))\n",
    "\n",
    "# 3. Two objects to animate\n",
    "line,   = ax.plot([2,1], [4,3], marker=\"\" , ls=\"-\")  # a line\n",
    "point, = ax.plot([1], [1], marker='o', ms=40)        # a point\n",
    "\n",
    "# Spring data\n",
    "k = 100\n",
    "m = 20\n",
    "w = np.sqrt(k/m)\n",
    "phi = 2\n",
    "A = 2\n",
    "\n",
    "# Position of mass as function of time\n",
    "def fun(t):\n",
    "    return A*np.sin(w * t + phi)\n",
    "\n",
    "# 4. Animation function\n",
    "def animate(i):    \n",
    "    x = fun(i/10)     \n",
    "    line.set_data([0,0], [4, -x])    \n",
    "    point.set_data(0, -x)    \n",
    "    return line, point\n",
    "  \n",
    "# 5. Create animation; 500 frames, 50ms delay between frames, blit=True : only re-draw the parts that have changed.\n",
    "anim = animation.FuncAnimation(fig, animate, frames=500, interval=50, blit=True)\n",
    "\n",
    "# 6. Play animation\n",
    "anim\n",
    "\n",
    "# 7. Save animation\n",
    "# writer = animation.writers['ffmpeg'](fps=15, bitrate=1800)\n",
    "# anim.save('img/spring_movie.mp4', writer=writer)\n"
   ]
  },
  {
   "cell_type": "markdown",
   "metadata": {
    "collapsed": true,
    "slideshow": {
     "slide_type": "slide"
    }
   },
   "source": [
    "## Visualising 2D Arrays\n",
    "\n",
    "Two-dimensonal arrays can be visualized with the `plt.matshow` function.\n",
    "\n",
    "Each square cell represents one element of the array.\n",
    "\n",
    "A colour scale (`plot.colorbar`) is used to indicate the value of each cell.\n",
    "\n"
   ]
  },
  {
   "cell_type": "markdown",
   "metadata": {
    "slideshow": {
     "slide_type": "subslide"
    }
   },
   "source": [
    "Note that the first row of the matrix (with index 0), is plotted at the top, which corresponds to the location of the first row in the matrix."
   ]
  },
  {
   "cell_type": "code",
   "execution_count": 28,
   "metadata": {},
   "outputs": [
    {
     "data": {
      "text/plain": [
       "<matplotlib.colorbar.Colorbar at 0x110d190b8>"
      ]
     },
     "execution_count": 28,
     "metadata": {},
     "output_type": "execute_result"
    },
    {
     "data": {
      "image/png": "[encoded data removed]",
      "text/plain": [
       "<matplotlib.figure.Figure at 0x110a6ba90>"
      ]
     },
     "metadata": {},
     "output_type": "display_data"
    }
   ],
   "source": [
    "x = np.array([[8, 7, 6, 8],\n",
    "              [8, 7, 6, 3],\n",
    "              [6, 6, 5, 2],\n",
    "              [4, 3, 2, 1]])\n",
    "plt.matshow(x)\n",
    "\n",
    "plt.colorbar()"
   ]
  },
  {
   "cell_type": "markdown",
   "metadata": {
    "slideshow": {
     "slide_type": "subslide"
    }
   },
   "source": [
    "The default colour map is used (it is called `viridis`).\n",
    "\n",
    "The highest value in the array is mapped to yellow.\n",
    "<br>The lowest value is mapped to purple. \n",
    "<br>The number is between vary between blue and green. \n",
    "\n"
   ]
  },
  {
   "cell_type": "markdown",
   "metadata": {
    "slideshow": {
     "slide_type": "subslide"
    }
   },
   "source": [
    "There are many other colour maps available.\n",
    "\n",
    "Doumentation of availble colour maps can be found here: http://matplotlib.org/users/colormaps.html. \n",
    "\n"
   ]
  },
  {
   "cell_type": "markdown",
   "metadata": {
    "slideshow": {
     "slide_type": "subslide"
    }
   },
   "source": [
    "To change the color map, the `matplotlib.cm` package is used, which we imported and renamed at the strt of the notebook. \n",
    ">`import matplotlib.cm as cm`\n",
    "\n",
    "Specify the name of any of the available color maps with the `cmap` keyword. "
   ]
  },
  {
   "cell_type": "code",
   "execution_count": 29,
   "metadata": {
    "slideshow": {
     "slide_type": "subslide"
    }
   },
   "outputs": [
    {
     "data": {
      "image/png": "[encoded data removed]",
      "text/plain": [
       "<matplotlib.figure.Figure at 0x110d44cc0>"
      ]
     },
     "metadata": {},
     "output_type": "display_data"
    }
   ],
   "source": [
    "plt.matshow(x, cmap=cm.Wistia)\n",
    "plt.colorbar();"
   ]
  },
  {
   "cell_type": "markdown",
   "metadata": {
    "slideshow": {
     "slide_type": "subslide"
    }
   },
   "source": [
    "The keywords `vmin` and `vmax` can be used to explicitly set the maximum and minimum value for the colour scale. "
   ]
  },
  {
   "cell_type": "code",
   "execution_count": 30,
   "metadata": {},
   "outputs": [
    {
     "data": {
      "image/png": "[encoded data removed]",
      "text/plain": [
       "<matplotlib.figure.Figure at 0x110d4a9e8>"
      ]
     },
     "metadata": {},
     "output_type": "display_data"
    }
   ],
   "source": [
    "plt.matshow(x, cmap=cm.bone, vmin=0, vmax=20)\n",
    "plt.colorbar();"
   ]
  },
  {
   "cell_type": "markdown",
   "metadata": {
    "slideshow": {
     "slide_type": "subslide"
    }
   },
   "source": [
    "The standard colormaps also all have reversed versions. They have the same names with `_r` tacked on to the end."
   ]
  },
  {
   "cell_type": "code",
   "execution_count": 31,
   "metadata": {},
   "outputs": [
    {
     "data": {
      "image/png": "[encoded data removed]",
      "text/plain": [
       "<matplotlib.figure.Figure at 0x110e08c88>"
      ]
     },
     "metadata": {},
     "output_type": "display_data"
    }
   ],
   "source": [
    "plt.matshow(x, cmap=cm.bone_r, vmin=0, vmax=20)\n",
    "plt.colorbar();"
   ]
  },
  {
   "cell_type": "markdown",
   "metadata": {
    "slideshow": {
     "slide_type": "subslide"
    }
   },
   "source": [
    "__Try it yourself__\n",
    "<br>Find a colour map you like using the link provided. Change the colours of the examples above to colours that you prefer."
   ]
  },
  {
   "cell_type": "markdown",
   "metadata": {
    "slideshow": {
     "slide_type": "slide"
    }
   },
   "source": [
    "## 3D Plotting\n",
    "An advantage of plotting compuationally is that we can easily produce more complex figures such as 3D plots.  \n",
    "\n",
    "This can be useful, for example, when visualiing the form of a function with two independent variables.\n",
    "\n"
   ]
  },
  {
   "cell_type": "markdown",
   "metadata": {
    "collapsed": true,
    "slideshow": {
     "slide_type": "subslide"
    }
   },
   "source": [
    "Many different styles of 3D plot are available.\n",
    "\n",
    "A number of examples can be found here: https://matplotlib.org/examples/mplot3d/index.html "
   ]
  },
  {
   "cell_type": "markdown",
   "metadata": {
    "slideshow": {
     "slide_type": "subslide"
    }
   },
   "source": [
    "Today, we will go through just one example. \n",
    "\n",
    "You can then explore further, using today's seminar as a basis."
   ]
  },
  {
   "cell_type": "markdown",
   "metadata": {
    "slideshow": {
     "slide_type": "subslide"
    }
   },
   "source": [
    "We will plot the function: \n",
    "$$\n",
    "f(x, y) = \\sin(x) \\cos\\left(\\frac{xy^2}{10}\\right)\n",
    "$$\n",
    "as a 3D surface."
   ]
  },
  {
   "cell_type": "markdown",
   "metadata": {
    "slideshow": {
     "slide_type": "subslide"
    }
   },
   "source": [
    "Plotting in 3D requires another package which was imported at the start of this notebook. \n",
    ">`from mpl_toolkits.mplot3d import axes3d`"
   ]
  },
  {
   "cell_type": "markdown",
   "metadata": {
    "slideshow": {
     "slide_type": "subslide"
    }
   },
   "source": [
    "First we create points in the $x$ and $y$ directions at which we want to evaluate the function: "
   ]
  },
  {
   "cell_type": "code",
   "execution_count": 33,
   "metadata": {
    "collapsed": true
   },
   "outputs": [],
   "source": [
    "N = 50  # 50 points in each direction\n",
    "x = np.linspace(-np.pi, np.pi, N)\n",
    "y = np.linspace(-np.pi, np.pi, N)"
   ]
  },
  {
   "cell_type": "markdown",
   "metadata": {
    "slideshow": {
     "slide_type": "subslide"
    }
   },
   "source": [
    "Next, we use NumPy to create a 'grid' of $(x, y$) points: "
   ]
  },
  {
   "cell_type": "code",
   "execution_count": 35,
   "metadata": {
    "collapsed": true
   },
   "outputs": [],
   "source": [
    "X, Y = np.meshgrid(x, y)"
   ]
  },
  {
   "cell_type": "markdown",
   "metadata": {
    "slideshow": {
     "slide_type": "subslide"
    }
   },
   "source": [
    "When printing you may want to round the value of each element.\n",
    "\n",
    "You can do this using the `np.around` function. \n",
    "\n",
    "Example:\n",
    "<br>`print(np.around(X,2), np.around(Y,2))`\n",
    "<br>rounds each value to 2 decimal places."
   ]
  },
  {
   "cell_type": "markdown",
   "metadata": {
    "slideshow": {
     "slide_type": "subslide"
    }
   },
   "source": [
    "__Try it yourself__\n",
    "<br>The easiest way to visualise how `meshgrid` work is to:\n",
    "- try making `N` smaller (fewer points along each axis) in the cell above.\n",
    "\n",
    "<br>\n",
    "In the cell below:\n",
    "- print `X` and `Y` using <br>`print(np.around(X,2))`<br>`print(np.around(Y,2))`<br><br>\n",
    "- print the shape of `X` and `Y` using<br>`print(X.shape)`<br>`print(Y.shape)`<br><br>\n",
    "- What happens if N is different for `X` than for `Y`?"
   ]
  },
  {
   "cell_type": "code",
   "execution_count": null,
   "metadata": {
    "collapsed": true
   },
   "outputs": [],
   "source": [
    "# How does meshgrid work?"
   ]
  },
  {
   "cell_type": "markdown",
   "metadata": {
    "slideshow": {
     "slide_type": "subslide"
    }
   },
   "source": [
    "Hopefully, you can see that by overlaying `X` and `Y` we can dscribe the x,y coordinates of every point on the 3D surface."
   ]
  },
  {
   "cell_type": "markdown",
   "metadata": {
    "slideshow": {
     "slide_type": "subslide"
    }
   },
   "source": [
    "Change the value of `N` to it's original value `N = 50`."
   ]
  },
  {
   "cell_type": "markdown",
   "metadata": {
    "slideshow": {
     "slide_type": "subslide"
    }
   },
   "source": [
    "We now evaluate the function $f$ at each point:"
   ]
  },
  {
   "cell_type": "code",
   "execution_count": 36,
   "metadata": {
    "collapsed": true
   },
   "outputs": [],
   "source": [
    "f = np.sin(X)*np.cos((X*Y**2)/10)"
   ]
  },
  {
   "cell_type": "markdown",
   "metadata": {
    "slideshow": {
     "slide_type": "subslide"
    }
   },
   "source": [
    "The 3D figure is plotted using:"
   ]
  },
  {
   "cell_type": "code",
   "execution_count": 37,
   "metadata": {},
   "outputs": [
    {
     "data": {
      "text/plain": [
       "<matplotlib.text.Text at 0x110f26780>"
      ]
     },
     "execution_count": 37,
     "metadata": {},
     "output_type": "execute_result"
    },
    {
     "data": {
      "image/png": "[encoded data removed]",
      "text/plain": [
       "<matplotlib.figure.Figure at 0x11897f940>"
      ]
     },
     "metadata": {},
     "output_type": "display_data"
    }
   ],
   "source": [
    "# Create a figure\n",
    "fig = plt.figure()\n",
    "\n",
    "# Specify 3D axes\n",
    "ax = plt.axes(projection='3d')\n",
    "\n",
    "# Plot the function as a surface\n",
    "surf = ax.plot_surface(X, Y, f ,cmap=cm.Reds)\n",
    "\n",
    "# Label the axes\n",
    "ax.set_xlabel('X', fontsize=20)\n",
    "ax.set_ylabel('Y', fontsize=20)\n",
    "ax.set_zlabel('Z', fontsize=20)"
   ]
  },
  {
   "cell_type": "markdown",
   "metadata": {
    "collapsed": true,
    "slideshow": {
     "slide_type": "slide"
    }
   },
   "source": [
    "## Review Exercises\n",
    "Below are some exercises for you to practise producing plots and figures.\n",
    "<br>Some of the examples require you to generate data using methods we have studied in previous seminars.\n",
    "\n"
   ]
  },
  {
   "cell_type": "markdown",
   "metadata": {
    "collapsed": true
   },
   "source": [
    "### Review Exercise: Simple Plot\n",
    "In the cell below, write a program to:\n",
    "- Plot $y=x^{3}-x^{2}-4x+4$ for $x = -3$ to $x= 3$.\n",
    "- Use a red, dashed line.\n",
    "- On the same figure, plot a black square at every point where $y$ equals zero. \n",
    "- Set the size of the markers to 10.\n",
    "- Label the axes as 'x-axis' and 'y-axis'. \n",
    "- Add a title of your choice.  \n",
    "\n",
    "*Hint: You may have to search online for the function argunents needed for some of these manipulations.* "
   ]
  },
  {
   "cell_type": "code",
   "execution_count": null,
   "metadata": {
    "collapsed": true
   },
   "outputs": [],
   "source": [
    "# Simple Plot"
   ]
  },
  {
   "cell_type": "markdown",
   "metadata": {
    "collapsed": true
   },
   "source": [
    "### Review Exercise: Plotting with Conditionals\n",
    "Create an array, `x` with 100 values from 0 to 20, inclusive. \n",
    "\n",
    "Compute $y=\\sin(x)$.\n",
    "\n",
    "Plot $y$ vs. $x$ with a blue line. \n",
    "\n",
    "Replace all values of $y$ that are larger than 0.5 with 0.5.\n",
    "\n",
    "Replace all values of $y$ that are smaller than $-$0.75 with $-0.75$.\n",
    "\n",
    "Plot $x$ vs. $y$ using a red line on the same graph. "
   ]
  },
  {
   "cell_type": "code",
   "execution_count": null,
   "metadata": {
    "collapsed": true
   },
   "outputs": [],
   "source": [
    "# Plotting with conditionals"
   ]
  },
  {
   "cell_type": "markdown",
   "metadata": {},
   "source": [
    "### Review Exercise: Bar Chart\n",
    "\n",
    "Write a Python programming to display a bar chart of the popularity of programming Languages.\n",
    "\n",
    "Set the bar colour green.\n",
    "\n",
    "Sample data: \n",
    "<br>Programming languages: Java, Python, PHP, JavaScript, C#, C++\n",
    "<br>Popularity: 22.2, 17.6, 8.8, 8, 7.7, 6.7\n",
    "\n",
    "Label the x and y axes and add a title."
   ]
  },
  {
   "cell_type": "code",
   "execution_count": null,
   "metadata": {
    "collapsed": true
   },
   "outputs": [],
   "source": [
    "# Bar Chart"
   ]
  },
  {
   "cell_type": "markdown",
   "metadata": {},
   "source": [
    "### Review Exercise: Plotting Functions Interactively\n",
    "\n",
    "Consider the function we used earlier:\n",
    "\n",
    "$x(t) = A cos(\\omega t - \\phi)$\n",
    "\n",
    "The position of a mass $x$ (relative to it's start position), attached to a spring, as a function of time, depends on the angular frequency $\\omega$ and the phase $ \\phi$ of the system. \n",
    "\n",
    "1. Plot the function from from $t = 0$ to $t = 10$, when $A$ = 5 and $\\omega = \\phi = 2$. Label the axes.\n",
    "1. Create an interactive plot with sliders for $\\omega$ and $\\phi$, varying from 0 to 4.\n",
    "1. Label the axes\n",
    "1. Observe the change in the position of $x$ as a function of time $t$ as you change $\\omega$ and $\\phi$ \n",
    "\n"
   ]
  },
  {
   "cell_type": "code",
   "execution_count": null,
   "metadata": {
    "collapsed": true
   },
   "outputs": [],
   "source": [
    "# Interactive Plot"
   ]
  },
  {
   "cell_type": "markdown",
   "metadata": {},
   "source": [
    "### Review Exercise: Plotting Functions Interactively\n",
    "\n",
    "Consider the function \n",
    "$$\n",
    "f(x) = e^{x/10} \\sin(ax)\\cos(bx)\n",
    "$$\n",
    "from $x = -4\\pi$ to $x = 4\\pi$.  \n",
    "\n",
    "1. Plot the function when $a = b = 1$. Label the axes.\n",
    "1. Create an interactive plot with sliders for $a$ and $b$, varying from 0 to 2."
   ]
  },
  {
   "cell_type": "code",
   "execution_count": null,
   "metadata": {
    "collapsed": true
   },
   "outputs": [],
   "source": [
    "# Interactive plot"
   ]
  },
  {
   "cell_type": "markdown",
   "metadata": {
    "collapsed": true
   },
   "source": [
    "### Review Exercise: Visualising 2D Arrays \n",
    "Create:\n",
    "- a Numpy 30 by 30 array\n",
    "- with randomly selected integer values for all elements\n",
    "- with an allowable range for each element of 1 to 50\n",
    "\n",
    "Represent the array using `matshow`:\n",
    "- Use a colour map of your choice\n",
    "- Set the colour scale minimum to 1\n",
    "- Set the colour scale maximum to 25\n",
    "- Display a colour scale on the plot"
   ]
  },
  {
   "cell_type": "code",
   "execution_count": null,
   "metadata": {
    "collapsed": true
   },
   "outputs": [],
   "source": [
    "# 2D Array plot"
   ]
  },
  {
   "cell_type": "markdown",
   "metadata": {},
   "source": [
    "### Review Exercise: Animated Plot - Projectile Trajectory\n",
    "\n",
    "A projectile is launched with initial velocity $v$, at an angle of $\\theta$.\n",
    "\n",
    "If we neglect the force of drag on the projectile, it will travel in an arc. \n",
    "\n",
    "It's position in the horizontal (x) and vertical (y) direction at time $t$ can be found by.\n",
    "\n",
    "$x= vt\\cos(\\theta)$\n",
    "<br>$y= vt\\sin(\\theta) - \\frac{1}{2}gt^2$\n",
    "\n",
    "where gravity, $g=9.81$ms$^{-2}$ \n",
    "\n",
    "<img src=\"img/projectile2.png\" alt=\"Drawing\" style=\"width: 300px;\"/>\n",
    "\n",
    "In the cell below write a program to create an animation of the particle animate the motion of an ideal projectile when launched:\n",
    " - from an angle of $\\theta = \\pi/2$\n",
    " - with an initial velocity of $v=10$ms$^{-1}$ \n",
    " \n",
    "*Hint*\n",
    "1. Create a figure window\n",
    "1. Create axes within the figure window.\n",
    "1. Create a point to animate\n",
    "1. Create variables for $g$, $v$, and $\\theta$\n",
    "1. Write a function, `fun` to find x and y position as a function of time, t (function argument = t)\n",
    "1. To animate the motion of the particle create a function, `animate`. Within animate call the function, `func`. Use a timestep of i/10.\n",
    "1. Use the function `animation.FuncAnimation` to create the animation. Use 50 frames and an interval of 50ms between each frame.\n",
    "\n"
   ]
  },
  {
   "cell_type": "code",
   "execution_count": null,
   "metadata": {
    "collapsed": true
   },
   "outputs": [],
   "source": [
    "# Trajectory Plot"
   ]
  },
  {
   "cell_type": "code",
   "execution_count": null,
   "metadata": {
    "collapsed": true
   },
   "outputs": [],
   "source": []
  },
  {
   "cell_type": "markdown",
   "metadata": {
    "collapsed": true
   },
   "source": [
    "### Review Exercise: 3D plotting"
   ]
  },
  {
   "cell_type": "code",
   "execution_count": null,
   "metadata": {
    "collapsed": true
   },
   "outputs": [],
   "source": []
  },
  {
   "cell_type": "markdown",
   "metadata": {},
   "source": [
    "### Extension Exercise: Plotting System of Simultaneous Equations Interactively. \n",
    "\n"
   ]
  },
  {
   "cell_type": "code",
   "execution_count": null,
   "metadata": {
    "collapsed": true
   },
   "outputs": [],
   "source": []
  },
  {
   "cell_type": "markdown",
   "metadata": {
    "slideshow": {
     "slide_type": "slide"
    }
   },
   "source": [
    "# Summary\n",
    "\n",
    "- Matplotlib can be used to produce a wide range of styles of figures and plots of your data.\n",
    "- Simple line and scatter plots can be customised using a `formatstring`\n",
    "- Additional features such as a figure legend and axis labels can be set as arguments when creating plots.\n",
    "- We can \"vectorise\" other functions so that they accept data structure as arguments.\n",
    "- Broasdcasting is a useful tool for applying information in one numpy array to another without having to repeat or reshape the arrays to match one another.  \n",
    "- The matplotlib library can be used to quicky produce simple plots to visualise and check your solutions to mathematical problems.  \n",
    "- This includes fitting a curve or a relationship to a dataset."
   ]
  },
  {
   "cell_type": "markdown",
   "metadata": {
    "slideshow": {
     "slide_type": "slide"
    }
   },
   "source": [
    "# Homework \n",
    "\n",
    "1. __PULL__ the changes you made in-class today to your personal computer.\n",
    "1. __COMPLETE__ any unfinished Review Exercises.\n",
    "1. __PUSH__ the changes you make at home to your online repository. "
   ]
  }
 ],
 "metadata": {
  "kernelspec": {
   "display_name": "Python 3",
   "language": "python",
   "name": "python3"
  },
  "language_info": {
   "codemirror_mode": {
    "name": "ipython",
    "version": 3
   },
   "file_extension": ".py",
   "mimetype": "text/x-python",
   "name": "python",
   "nbconvert_exporter": "python",
   "pygments_lexer": "ipython3",
   "version": "3.6.2"
  }
 },
 "nbformat": 4,
 "nbformat_minor": 2
}
